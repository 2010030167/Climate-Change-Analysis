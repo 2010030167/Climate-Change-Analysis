{
  "nbformat": 4,
  "nbformat_minor": 0,
  "metadata": {
    "colab": {
      "provenance": []
    },
    "kernelspec": {
      "name": "python3",
      "display_name": "Python 3"
    },
    "language_info": {
      "name": "python"
    }
  },
  "cells": [
    {
      "cell_type": "code",
      "execution_count": null,
      "metadata": {
        "id": "jkrosqdmBGGl"
      },
      "outputs": [],
      "source": [
        "import pandas as pd\n",
        "import numpy as np\n",
        "import matplotlib.pyplot as plt\n",
        "import seaborn as sns\n",
        "from sklearn.model_selection import train_test_split\n",
        "from sklearn.linear_model import LinearRegression\n",
        "from sklearn.metrics import mean_absolute_error, mean_squared_error\n",
        "from sklearn.linear_model import LogisticRegression\n",
        "from sklearn.metrics import accuracy_score, precision_score, recall_score, f1_score, confusion_matrix\n",
        "from sklearn.tree import DecisionTreeRegressor\n",
        "from sklearn.svm import SVR"
      ]
    },
    {
      "cell_type": "code",
      "source": [
        "df = pd.read_csv('AirQuality1.csv',sep=';')"
      ],
      "metadata": {
        "id": "vGw1LsoiBrBO"
      },
      "execution_count": null,
      "outputs": []
    },
    {
      "cell_type": "code",
      "source": [
        "df = df.drop(0)"
      ],
      "metadata": {
        "id": "ExBdj4B4CCMP"
      },
      "execution_count": null,
      "outputs": []
    },
    {
      "cell_type": "code",
      "source": [
        "df.reset_index(drop=True, inplace=True)"
      ],
      "metadata": {
        "id": "d66cSosjCle2"
      },
      "execution_count": null,
      "outputs": []
    },
    {
      "cell_type": "code",
      "source": [
        "df.reset_index(drop=True, inplace=True)"
      ],
      "metadata": {
        "id": "OuwwTyZ3Cney"
      },
      "execution_count": null,
      "outputs": []
    },
    {
      "cell_type": "code",
      "source": [
        "print(df.head())\n"
      ],
      "metadata": {
        "colab": {
          "base_uri": "https://localhost:8080/"
        },
        "id": "sMLsZHS-Cpd0",
        "outputId": "68817874-c42e-443c-8497-97b4dc46ff0b"
      },
      "execution_count": null,
      "outputs": [
        {
          "output_type": "stream",
          "name": "stdout",
          "text": [
            "         Date      Time CO(GT)  PT08.S1(CO)  NMHC(GT) C6H6(GT)  PT08.S2(NMHC)  \\\n",
            "0  10/03/2004  19.00.00      2       1292.0     112.0      9,4          955.0   \n",
            "1  10/03/2004  20.00.00    2,2       1402.0      88.0      9,0          939.0   \n",
            "2  10/03/2004  21.00.00    2,2       1376.0      80.0      9,2          948.0   \n",
            "3  10/03/2004  22.00.00    1,6       1272.0      51.0      6,5          836.0   \n",
            "4  10/03/2004  23.00.00    1,2       1197.0      38.0      4,7          750.0   \n",
            "\n",
            "   NOx(GT)  PT08.S3(NOx)  NO2(GT)  PT08.S4(NO2)  PT08.S5(O3)     T    RH  \\\n",
            "0    103.0        1174.0     92.0        1559.0        972.0  13,3  47,7   \n",
            "1    131.0        1140.0    114.0        1555.0       1074.0  11,9  54,0   \n",
            "2    172.0        1092.0    122.0        1584.0       1203.0  11,0  60,0   \n",
            "3    131.0        1205.0    116.0        1490.0       1110.0  11,2  59,6   \n",
            "4     89.0        1337.0     96.0        1393.0        949.0  11,2  59,2   \n",
            "\n",
            "       AH  Unnamed: 15 ,,,,,  \n",
            "0  0,7255          NaN     ,  \n",
            "1  0,7502          NaN   NaN  \n",
            "2  0,7867          NaN   NaN  \n",
            "3  0,7888          NaN   NaN  \n",
            "4  0,7848          NaN   NaN  \n"
          ]
        }
      ]
    },
    {
      "cell_type": "code",
      "source": [
        "df.drop(columns=df.columns[-2:], inplace=True)\n",
        "\n",
        "# Replace commas with dots in numeric columns\n",
        "numeric_cols = ['C6H6(GT)', 'T', 'RH', 'AH']\n",
        "df[numeric_cols] = df[numeric_cols].replace(',', '.', regex=True)\n",
        "\n",
        "# Convert comma-separated values to numerical format\n",
        "comma_sep_cols = ['CO(GT)', 'C6H6(GT)', 'T', 'RH', 'AH']\n",
        "df[comma_sep_cols] = df[comma_sep_cols].apply(lambda x: x.str.replace(',', '.').astype(float))\n",
        "\n",
        "# Convert non-numeric columns to numeric\n",
        "non_numeric_columns = [\"CO(GT)\", \"PT08.S1(CO)\", \"NMHC(GT)\", \"C6H6(GT)\", \"PT08.S2(NMHC)\",\n",
        "           \"NOx(GT)\", \"PT08.S3(NOx)\", \"NO2(GT)\", \"PT08.S4(NO2)\", \"PT08.S5(O3)\", \"T\", \"RH\", \"AH\"]  # Update with non-numeric column names\n",
        "for col in non_numeric_columns:\n",
        "    df[col] = pd.to_numeric(df[col], errors='coerce')\n",
        "\n",
        "\n",
        "# Check for duplicate rows\n",
        "duplicate_rows = df[df.duplicated()]\n",
        "\n",
        "# Check for missing values (NaN) in each column\n",
        "missing_values = df.isna().sum()\n",
        "\n",
        "# Check for missing values (NaN) in the entire DataFrame\n",
        "total_missing_values = df.isna().sum().sum()\n",
        "\n",
        "# Print the results\n",
        "print(\"Duplicate rows:\")\n",
        "print(duplicate_rows)\n",
        "\n",
        "print(\"\\nMissing values in each column:\")\n",
        "print(missing_values)\n",
        "\n",
        "print(\"\\nTotal missing values in the DataFrame:\", total_missing_values)\n",
        "\n",
        "df.drop(df[df.eq(-200).any(axis=1)].index, inplace=True)\n",
        "\n",
        "# Drop rows with missing values\n",
        "df.dropna(subset=df.columns[:-1], how='all', inplace=True)\n",
        "\n",
        "# Reset the index after removing rows\n",
        "cleaned_df = df.reset_index(drop=True)\n",
        "\n",
        "# Remove duplicate rows\n",
        "cleaned_df = df.drop_duplicates()\n",
        "\n",
        "# Print the cleaned DataFrame\n",
        "print(cleaned_df)\n",
        "\n",
        "# Check for missing values and duplicates in the cleaned DataFrame\n",
        "print(\"Missing values in each column:\")\n",
        "print(cleaned_df.isna().sum())\n",
        "\n",
        "print(\"\\nDuplicate rows:\")\n",
        "print(cleaned_df[cleaned_df.duplicated()])\n",
        "df.head()\n",
        "\n",
        "\n",
        "# Check data types of the columns\n",
        "print(df.dtypes)"
      ],
      "metadata": {
        "colab": {
          "base_uri": "https://localhost:8080/"
        },
        "id": "bCFuUkwICsdN",
        "outputId": "109927e1-c510-464f-bef2-184e17b93ac1"
      },
      "execution_count": null,
      "outputs": [
        {
          "output_type": "stream",
          "name": "stdout",
          "text": [
            "Duplicate rows:\n",
            "     Date Time  CO(GT)  PT08.S1(CO)  NMHC(GT)  C6H6(GT)  PT08.S2(NMHC)  \\\n",
            "9357  NaN  NaN     NaN          NaN       NaN       NaN            NaN   \n",
            "9358  NaN  NaN     NaN          NaN       NaN       NaN            NaN   \n",
            "9359  NaN  NaN     NaN          NaN       NaN       NaN            NaN   \n",
            "9360  NaN  NaN     NaN          NaN       NaN       NaN            NaN   \n",
            "9361  NaN  NaN     NaN          NaN       NaN       NaN            NaN   \n",
            "...   ...  ...     ...          ...       ...       ...            ...   \n",
            "9465  NaN  NaN     NaN          NaN       NaN       NaN            NaN   \n",
            "9466  NaN  NaN     NaN          NaN       NaN       NaN            NaN   \n",
            "9467  NaN  NaN     NaN          NaN       NaN       NaN            NaN   \n",
            "9468  NaN  NaN     NaN          NaN       NaN       NaN            NaN   \n",
            "9469  NaN  NaN     NaN          NaN       NaN       NaN            NaN   \n",
            "\n",
            "      NOx(GT)  PT08.S3(NOx)  NO2(GT)  PT08.S4(NO2)  PT08.S5(O3)   T  RH  AH  \n",
            "9357      NaN           NaN      NaN           NaN          NaN NaN NaN NaN  \n",
            "9358      NaN           NaN      NaN           NaN          NaN NaN NaN NaN  \n",
            "9359      NaN           NaN      NaN           NaN          NaN NaN NaN NaN  \n",
            "9360      NaN           NaN      NaN           NaN          NaN NaN NaN NaN  \n",
            "9361      NaN           NaN      NaN           NaN          NaN NaN NaN NaN  \n",
            "...       ...           ...      ...           ...          ...  ..  ..  ..  \n",
            "9465      NaN           NaN      NaN           NaN          NaN NaN NaN NaN  \n",
            "9466      NaN           NaN      NaN           NaN          NaN NaN NaN NaN  \n",
            "9467      NaN           NaN      NaN           NaN          NaN NaN NaN NaN  \n",
            "9468      NaN           NaN      NaN           NaN          NaN NaN NaN NaN  \n",
            "9469      NaN           NaN      NaN           NaN          NaN NaN NaN NaN  \n",
            "\n",
            "[113 rows x 15 columns]\n",
            "\n",
            "Missing values in each column:\n",
            "Date             114\n",
            "Time             114\n",
            "CO(GT)           114\n",
            "PT08.S1(CO)      114\n",
            "NMHC(GT)         114\n",
            "C6H6(GT)         114\n",
            "PT08.S2(NMHC)    114\n",
            "NOx(GT)          114\n",
            "PT08.S3(NOx)     114\n",
            "NO2(GT)          114\n",
            "PT08.S4(NO2)     114\n",
            "PT08.S5(O3)      114\n",
            "T                114\n",
            "RH               114\n",
            "AH               114\n",
            "dtype: int64\n",
            "\n",
            "Total missing values in the DataFrame: 1710\n",
            "            Date      Time  CO(GT)  PT08.S1(CO)  NMHC(GT)  C6H6(GT)  \\\n",
            "0     10/03/2004  19.00.00     2.0       1292.0     112.0       9.4   \n",
            "1     10/03/2004  20.00.00     2.2       1402.0      88.0       9.0   \n",
            "2     10/03/2004  21.00.00     2.2       1376.0      80.0       9.2   \n",
            "3     10/03/2004  22.00.00     1.6       1272.0      51.0       6.5   \n",
            "4     10/03/2004  23.00.00     1.2       1197.0      38.0       4.7   \n",
            "...          ...       ...     ...          ...       ...       ...   \n",
            "1225  30/04/2004  20.00.00     4.4       1449.0     501.0      19.5   \n",
            "1226  30/04/2004  21.00.00     3.1       1363.0     234.0      15.1   \n",
            "1227  30/04/2004  22.00.00     3.0       1371.0     212.0      14.6   \n",
            "1228  30/04/2004  23.00.00     3.1       1406.0     275.0      13.7   \n",
            "1229  01/05/2004  00.00.00     3.5       1425.0     275.0      15.2   \n",
            "\n",
            "      PT08.S2(NMHC)  NOx(GT)  PT08.S3(NOx)  NO2(GT)  PT08.S4(NO2)  \\\n",
            "0             955.0    103.0        1174.0     92.0        1559.0   \n",
            "1             939.0    131.0        1140.0    114.0        1555.0   \n",
            "2             948.0    172.0        1092.0    122.0        1584.0   \n",
            "3             836.0    131.0        1205.0    116.0        1490.0   \n",
            "4             750.0     89.0        1337.0     96.0        1393.0   \n",
            "...             ...      ...           ...      ...           ...   \n",
            "1225         1282.0    254.0         625.0    133.0        2100.0   \n",
            "1226         1152.0    189.0         684.0    110.0        1951.0   \n",
            "1227         1136.0    174.0         689.0    102.0        1927.0   \n",
            "1228         1107.0    167.0         718.0    108.0        1872.0   \n",
            "1229         1155.0    185.0         709.0    110.0        1936.0   \n",
            "\n",
            "      PT08.S5(O3)     T    RH      AH  \n",
            "0           972.0  13.3  47.7  0.7255  \n",
            "1          1074.0  11.9  54.0  0.7502  \n",
            "2          1203.0  11.0  60.0  0.7867  \n",
            "3          1110.0  11.2  59.6  0.7888  \n",
            "4           949.0  11.2  59.2  0.7848  \n",
            "...           ...   ...   ...     ...  \n",
            "1225       1569.0  19.1  61.1  1.3345  \n",
            "1226       1495.0  18.2  65.4  1.3529  \n",
            "1227       1471.0  18.1  66.1  1.3579  \n",
            "1228       1384.0  17.7  66.9  1.3422  \n",
            "1229       1789.0  17.8  66.8  1.3460  \n",
            "\n",
            "[826 rows x 15 columns]\n",
            "Missing values in each column:\n",
            "Date             0\n",
            "Time             0\n",
            "CO(GT)           0\n",
            "PT08.S1(CO)      0\n",
            "NMHC(GT)         0\n",
            "C6H6(GT)         0\n",
            "PT08.S2(NMHC)    0\n",
            "NOx(GT)          0\n",
            "PT08.S3(NOx)     0\n",
            "NO2(GT)          0\n",
            "PT08.S4(NO2)     0\n",
            "PT08.S5(O3)      0\n",
            "T                0\n",
            "RH               0\n",
            "AH               0\n",
            "dtype: int64\n",
            "\n",
            "Duplicate rows:\n",
            "Empty DataFrame\n",
            "Columns: [Date, Time, CO(GT), PT08.S1(CO), NMHC(GT), C6H6(GT), PT08.S2(NMHC), NOx(GT), PT08.S3(NOx), NO2(GT), PT08.S4(NO2), PT08.S5(O3), T, RH, AH]\n",
            "Index: []\n",
            "Date              object\n",
            "Time              object\n",
            "CO(GT)           float64\n",
            "PT08.S1(CO)      float64\n",
            "NMHC(GT)         float64\n",
            "C6H6(GT)         float64\n",
            "PT08.S2(NMHC)    float64\n",
            "NOx(GT)          float64\n",
            "PT08.S3(NOx)     float64\n",
            "NO2(GT)          float64\n",
            "PT08.S4(NO2)     float64\n",
            "PT08.S5(O3)      float64\n",
            "T                float64\n",
            "RH               float64\n",
            "AH               float64\n",
            "dtype: object\n"
          ]
        }
      ]
    },
    {
      "cell_type": "code",
      "source": [
        "df['Date'] = pd.to_datetime(df['Date'], format='%d/%m/%Y')\n",
        "df['Time'] = pd.to_datetime(df['Time'], format='%H.%M.%S')\n",
        "\n",
        "# Now you can convert the time column to datetime\n",
        "df['Time'] = pd.to_datetime(df['Time'], format='%H.%M.%S')\n",
        "\n",
        "# Dropping the original 'Date' column if not needed\n",
        "df = df.drop(columns=['Date','Time'])\n",
        "\n",
        "# Splitting the data into features (X) and target variable (y)\n",
        "X = df.drop(columns=['CO(GT)'])\n",
        "y = df['CO(GT)']\n",
        "\n",
        "# Splitting the data into training and testing sets (80% train, 20% test)\n",
        "X_train, X_test, y_train, y_test = train_test_split(X, y, test_size=0.2, random_state=42)\n",
        "\n",
        "# Model Training (Linear Regression)\n",
        "model = LinearRegression()\n",
        "model.fit(X_train, y_train)\n",
        "\n",
        "# Model Evaluation\n",
        "y_pred = model.predict(X_test)\n",
        "mae = mean_absolute_error(y_test, y_pred)\n",
        "mse = mean_squared_error(y_test, y_pred)\n",
        "rmse = mean_squared_error(y_test, y_pred, squared=False)\n",
        "\n",
        "print(\"Mean Absolute Error:\", mae)\n",
        "print(\"Mean Squared Error:\", mse)\n",
        "print(\"Root Mean Squared Error:\", rmse)"
      ],
      "metadata": {
        "colab": {
          "base_uri": "https://localhost:8080/"
        },
        "id": "AXrgNGQWCyPz",
        "outputId": "481328da-99fa-40a6-b28b-311bd62696d8"
      },
      "execution_count": null,
      "outputs": [
        {
          "output_type": "stream",
          "name": "stdout",
          "text": [
            "Mean Absolute Error: 0.16715993424836964\n",
            "Mean Squared Error: 0.05142828652094674\n",
            "Root Mean Squared Error: 0.2267780556423984\n"
          ]
        }
      ]
    },
    {
      "cell_type": "code",
      "source": [
        "svm_model = SVR(kernel='linear')  # You can choose different kernels like 'rbf', 'poly', etc.\n",
        "svm_model.fit(X_train, y_train)\n",
        "\n",
        "# Make predictions\n",
        "y_pred_svm = svm_model.predict(X_test)\n",
        "\n",
        "# Evaluate the model\n",
        "mae_svm = mean_absolute_error(y_test, y_pred_svm)\n",
        "mse_svm = mean_squared_error(y_test, y_pred_svm)\n",
        "rmse_svm = mean_squared_error(y_test, y_pred_svm, squared=False)\n",
        "\n",
        "print(\"SVM Mean Absolute Error:\", mae_svm)\n",
        "print(\"SVM Mean Squared Error:\", mse_svm)\n",
        "print(\"SVM Root Mean Squared Error:\", rmse_svm)"
      ],
      "metadata": {
        "colab": {
          "base_uri": "https://localhost:8080/"
        },
        "id": "U060xi7eC7di",
        "outputId": "c32b8521-1d43-4131-9c9e-565b116492d4"
      },
      "execution_count": null,
      "outputs": [
        {
          "output_type": "stream",
          "name": "stdout",
          "text": [
            "SVM Mean Absolute Error: 0.7937187503618001\n",
            "SVM Mean Squared Error: 1.0587191753578826\n",
            "SVM Root Mean Squared Error: 1.0289408026499303\n"
          ]
        }
      ]
    },
    {
      "cell_type": "code",
      "source": [
        "# Model Training (Decision Tree Regression)\n",
        "dt_model = DecisionTreeRegressor()\n",
        "dt_model.fit(X_train, y_train)\n",
        "\n",
        "# Model Evaluation\n",
        "y_pred_dt = dt_model.predict(X_test)\n",
        "mae_dt = mean_absolute_error(y_test, y_pred_dt)\n",
        "mse_dt = mean_squared_error(y_test, y_pred_dt)\n",
        "rmse_dt = mean_squared_error(y_test, y_pred_dt, squared=False)\n",
        "\n",
        "print(\"Decision Tree Mean Absolute Error:\", mae_dt)\n",
        "print(\"Decision Tree Mean Squared Error:\", mse_dt)\n",
        "print(\"Decision Tree Root Mean Squared Error:\", rmse_dt)"
      ],
      "metadata": {
        "colab": {
          "base_uri": "https://localhost:8080/"
        },
        "id": "YDmpeqPfC_Vg",
        "outputId": "84b02fcc-0284-4425-caba-2b1c8c740152"
      },
      "execution_count": null,
      "outputs": [
        {
          "output_type": "stream",
          "name": "stdout",
          "text": [
            "Decision Tree Mean Absolute Error: 0.18734939759036146\n",
            "Decision Tree Mean Squared Error: 0.07126506024096387\n",
            "Decision Tree Root Mean Squared Error: 0.2669551652262302\n"
          ]
        }
      ]
    },
    {
      "cell_type": "code",
      "source": [],
      "metadata": {
        "id": "06CDDYKZDyOG"
      },
      "execution_count": null,
      "outputs": []
    }
  ]
}